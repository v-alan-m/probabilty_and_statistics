{
 "cells": [
  {
   "attachments": {},
   "cell_type": "markdown",
   "metadata": {},
   "source": [
    "# Regression"
   ]
  },
  {
   "cell_type": "markdown",
   "metadata": {},
   "source": [
    "## Linear regression\n",
    "Develop an equation or formula that best describes the relationship between variables\n",
    "\n",
    "**How to find a best-fit line**\n",
    "- A dataset with only one variable\n",
    "    - The best-fit line is the mean value, of the data points\n",
    "\n",
    "<img src='pics/regresion_mean.png'>\n",
    "\n",
    "<img src='pics/pre_sse_ex_1.png'>\n",
    "\n",
    "- Linear regression is trying to minimise the **Sum of Squared Error (SSE)**\n",
    "\n",
    "<img src='pics/post_sse_ex_1.png'>"
   ]
  },
  {
   "cell_type": "markdown",
   "metadata": {},
   "source": [
    "## Drawing the line\n",
    "We are trying turn the relationship between variables into a formula\n",
    "- The equation for a line: \n",
    "- **y = mx + c**, becomes, **ŷ + b<sub>0</sub> + b<sub>1</sub>x**\n",
    "\n",
    "<img src='pics/regression_b0_b1.png'>\n",
    "\n",
    "- Linear regression may not always be the best fit\n",
    "    - Visual the data to confirm\n",
    "    - The residual/error (distance from the data point to the best fit line ) should be normally distributed\n",
    "        - Helps to ensure that the error is close to being the same for each point"
   ]
  },
  {
   "cell_type": "markdown",
   "metadata": {},
   "source": [
    "## Mulitple regression\n",
    "- Allows us to compare more than one independent variable to one dependent variable, at a time\n",
    "\n",
    "*linear regression formula*: **ŷ + b<sub>0</sub> + b<sub>1</sub>x**\n",
    "\n",
    "*Multiple regression formula*: **ŷ + b<sub>0</sub> + b<sub>1</sub>x<sub>1</sub> + + b<sub>2</sub>x<sub>2</sub> + ...**\n",
    "\n",
    "<br></br>\n",
    "- When trying to map to correlation of dependent variables, **multicolinearity** causes an issue\n",
    "    - One **independent variable** may be heavily correlated to another **independent variable**\n",
    "        - If this is true then it makes sense to **discard one**, as it is duplicating the relationship\n",
    "            - Saving on computations and time\n",
    "\n",
    "<img src='pics/multi_reg_ex_1.png'>\n",
    "\n",
    "- Check for a relationship between the independent variables with a correlation with the dependent variable\n",
    "\n",
    "<img src='pics/multi_reg_ex_1_2.png'>\n",
    "\n",
    "- There is no correlation between these two independent variables so there are no **multicolinearity** issues\n",
    "\n",
    "<img src='pics/multi_reg_ex_1_3.png'>\n",
    "\n",
    "**Based on the analysis pharmacy deliveries have a fixed time of 8 minutes, plus 5 minutes for each stop, and 2 minutes for each mile traveled**"
   ]
  },
  {
   "cell_type": "code",
   "execution_count": null,
   "metadata": {},
   "outputs": [],
   "source": []
  }
 ],
 "metadata": {
  "kernelspec": {
   "display_name": "Python 3",
   "language": "python",
   "name": "python3"
  },
  "language_info": {
   "codemirror_mode": {
    "name": "ipython",
    "version": 3
   },
   "file_extension": ".py",
   "mimetype": "text/x-python",
   "name": "python",
   "nbconvert_exporter": "python",
   "pygments_lexer": "ipython3",
   "version": "3.7.4"
  }
 },
 "nbformat": 4,
 "nbformat_minor": 2
}
