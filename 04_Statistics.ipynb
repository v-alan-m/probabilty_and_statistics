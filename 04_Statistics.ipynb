{
 "cells": [
  {
   "cell_type": "markdown",
   "metadata": {},
   "source": [
    "# Statistics\n",
    "The application of what we know to what we would like to know\n",
    "- **Population**: Every member in a a group\n",
    "    - **Parameter**: Characteristic of a population\n",
    "- **Sample**: A small set of ideally random members of the population\n",
    "    - **Statistic**: Characteristic of a sample\n",
    "        - **Varaible**: Characteristic that describes a member of the sample\n",
    "            - E.g. age, gender, salary, birthplace\n",
    "                - Variables can be discrete or continuous"
   ]
  },
  {
   "cell_type": "markdown",
   "metadata": {},
   "source": [
    "## Sampling\n",
    "Getting data to preform statistics\n",
    "- A reasonably sized (>30) random sample will almost always refelct the population well\n",
    "    - The data must be selected without bias whereever possible\n",
    "\n",
    "<br></br>\n",
    "### Bias  \n",
    "#### Selection bias\n",
    "- Members of population more able to inclined or able to answer polls  \n",
    "\n",
    "#### Undercoverage bias\n",
    "- Making too few observations or omitting entire segments of a population  \n",
    "\n",
    "#### Self-selection bias\n",
    "- People who volunteer may differ significantly from the those in the population who don't  \n",
    "\n",
    "#### Healthy user bias\n",
    "- The sample may have been taken from a healthier segment of the population\n",
    "\n",
    "#### Survivorship  bias\n",
    "- The population improves over time, it may be due to lesser members leaving the population\n",
    "\n",
    "#### Convenience bias\n",
    "- Only taking a sample of a single day, rather than a large selection of days, to reduce the sampling cost\n",
    "\n",
    "<br></br>\n",
    "### Types of sampling\n",
    "####  Random\n",
    "- Every member of a population has an equal chance of being selected\n",
    "\n",
    "#### Stratified random\n",
    "- Due to the sample size being too small certain groups with the population may be missed\n",
    "- Stratified random sampling ensures that all groups with the population are represented fairly\n",
    "    - Members only belong to one group\n",
    "\n",
    "<img src = 'pics/stratified_rs.png'>\n",
    "\n",
    "- An equal percentage is taken from each stratum\n",
    "\n",
    "#### Cluster\n",
    "- Break the population down into groups\n",
    "    - Randomly select a selection of groups\n",
    "         - The selection of groups, from the population, is called a **cluster**\n",
    "- Not the most accurate sampling method but usually done to reduce cost"
   ]
  },
  {
   "cell_type": "markdown",
   "metadata": {},
   "source": [
    "## Central limit theory\n",
    "- A sample mean oftern varies from the population mean\n",
    "- The CLT considers a large number of random sample tests\n",
    "    - The mean values from a group of samples will be normally distributed about the population mean\n",
    "        - Even if the population itself is not normally distributed\n",
    "    - I.e. 95% of the sample means fall within 2σ of the population mean"
   ]
  },
  {
   "attachments": {},
   "cell_type": "markdown",
   "metadata": {},
   "source": [
    "## Standard error\n",
    "- Unrealistic to poll the entire population\n",
    "    - So a sample is taken\n",
    "- Calculate a statitics from the sample\n",
    "    - Allows us to estimate a parameter of the population\n",
    "\n",
    "<img src='pics/standard_error.png'>\n",
    "\n",
    "- If the population (10000 members) mean height = 5'9\"\n",
    "- If the sample (100 members) mean height = 5'10\"\n",
    "\n",
    "<img src='pics/standard_error_of_the_mean.png'>\n",
    "\n",
    "- The **standard error of the mean** describes how far a sample mean strays from the population mean\n",
    "    - Given that the population standard deviation *σ* is known\n",
    "        - The sample standard error of the mean can be calculated\n",
    "        \n",
    "<img src='pics/sample_standard_error_of_the_mean.png'>\n",
    "\n",
    "- Where **n** is the number of the data points within the sample\n",
    "\n",
    "<br></br>\n",
    "Example: \n",
    "- IQ test\n",
    "    - Population mean = 100\n",
    "    - Population std = 15\n",
    "    - Sample size, n = 10\n",
    "    - Sample mean, p̂ = 104\n",
    "- Can we assume that the sample mean comes from the general population being investigated?\n",
    "\n",
    "<img src='pics/standard_error_of_the_mean_ex1.png'>\n",
    "\n",
    "- 68% = 1σ\n",
    "- We can say with a 95% **confidence level** that the population parameter lies within a **confidence interval** of plus-or-minus two standard errors of the sample statistic\n",
    "\n",
    "<img src='pics/confidence_interval.png'>\n",
    "\n",
    "The sample statistics **p̂** is a **point estimator** of the population parameter **P**"
   ]
  },
  {
   "cell_type": "code",
   "execution_count": null,
   "metadata": {},
   "outputs": [],
   "source": []
  }
 ],
 "metadata": {
  "kernelspec": {
   "display_name": "Python 3",
   "language": "python",
   "name": "python3"
  },
  "language_info": {
   "codemirror_mode": {
    "name": "ipython",
    "version": 3
   },
   "file_extension": ".py",
   "mimetype": "text/x-python",
   "name": "python",
   "nbconvert_exporter": "python",
   "pygments_lexer": "ipython3",
   "version": "3.7.4"
  }
 },
 "nbformat": 4,
 "nbformat_minor": 2
}
