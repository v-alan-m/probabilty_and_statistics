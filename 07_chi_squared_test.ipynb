{
 "cells": [
  {
   "cell_type": "markdown",
   "metadata": {},
   "source": [
    "# Chi-Square test (X<sup>2</sup>)\n",
    "- Used to determine the probabilty of an observed frequency of events, given an expected frequency\n",
    "\n",
    "<br></br>\n",
    "- Example: Coin flipped 18 times, heads comes up 12 times\n",
    "    - Is this due to chance or is this coin biased\n",
    "        - Use a chi-square test to confirm, whether the observed results are deviating too far from the expected results \n",
    "        \n",
    "<br></br>\n",
    "- The chi-square formula considers the sum of square distances between the observed valued **O** and **E**, divided by each expected value\n",
    "\n",
    "<img src='pics/chi-square_formula.png'>\n",
    "\n",
    "- Calculate for each of the possible outcomes within the test\n",
    "\n",
    "<img src='pics/chi-square_ex_1.png'>\n",
    "\n",
    "<img src='pics/chi-square_test_dist.png'>\n",
    "\n",
    "- The degrees of freedom = (number of outcomes) -1\n",
    "    - Coin: 2 - 1 = 1\n",
    "    - Dice: 6 - 1 = 5\n",
    "\n",
    "- Using the p-values calculate the critical values\n",
    "\n",
    "<img src='pics/chi-square_test_critical_v.png'>\n",
    "\n",
    "- Low chi-square value (X<sup>2</sup>) means a high correlation between the observed values, the expected values\n",
    "\n",
    "<br></br>\n",
    "- Our coin had a chi-square value of 2.0\n",
    "- The degrees of freedome is 1\n",
    "- Our critical value with 95% confidence is: 3.841\n",
    "    - (X<sup>2</sup><sub>critical</sub>) = 3.841\n",
    "    \n",
    "<br></br>\n",
    "- **Null hypothesis**: 12 heads in 18 flips was statistically reasonable for a fair coin, with 95% probability\n",
    "- Since (X<sup>2</sup>) = 2 and (X<sup>2</sup><sub>critical</sub>) = 3.841\n",
    "- (X<sup>2</sup>) < (X<sup>2</sup><sub>critical</sub>)\n",
    "- We **fail to reject the null hypothesis**"
   ]
  },
  {
   "cell_type": "code",
   "execution_count": null,
   "metadata": {},
   "outputs": [],
   "source": []
  }
 ],
 "metadata": {
  "kernelspec": {
   "display_name": "Python 3",
   "language": "python",
   "name": "python3"
  },
  "language_info": {
   "codemirror_mode": {
    "name": "ipython",
    "version": 3
   },
   "file_extension": ".py",
   "mimetype": "text/x-python",
   "name": "python",
   "nbconvert_exporter": "python",
   "pygments_lexer": "ipython3",
   "version": "3.7.4"
  }
 },
 "nbformat": 4,
 "nbformat_minor": 2
}
